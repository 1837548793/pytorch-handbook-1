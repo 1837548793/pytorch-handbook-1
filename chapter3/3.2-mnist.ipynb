{
 "cells": [
  {
   "cell_type": "code",
   "execution_count": 1,
   "metadata": {},
   "outputs": [
    {
     "data": {
      "text/plain": [
       "'1.0.1.post2'"
      ]
     },
     "execution_count": 1,
     "metadata": {},
     "output_type": "execute_result"
    }
   ],
   "source": [
    "import torch\n",
    "import torch.nn as nn\n",
    "import torch.nn.functional as F\n",
    "import torch.optim as optim\n",
    "from torchvision import datasets, transforms\n",
    "torch.__version__"
   ]
  },
  {
   "cell_type": "markdown",
   "metadata": {},
   "source": [
    "# 3.2  MNIST数据集手写数字识别\n",
    "\n",
    "## 3.2.1  数据集介绍\n",
    "MNIST 包括6万张28x28的训练样本，1万张测试样本，很多教程都会对它”下手”几乎成为一个 “典范”，可以说他就是计算机视觉里面的Hello World。所以我们这里也会使用MNIST来进行实战。\n",
    "\n",
    "我们在介绍卷积神经网络的时候说到过LeNet-5，LeNet-5之所以强大就是因为在当时的环境下将MNIST数据的识别率提高到了99%，这里我们也自己从头搭建一个卷积神经网络，也达到99%的准确率"
   ]
  },
  {
   "cell_type": "markdown",
   "metadata": {},
   "source": [
    "## 3.2.2 手写数字识别\n",
    "首先，我们定义一些超参数"
   ]
  },
  {
   "cell_type": "code",
   "execution_count": 2,
   "metadata": {},
   "outputs": [],
   "source": [
    "BATCH_SIZE=512 #大概需要2G的显存\n",
    "EPOCHS=20 # 总共训练批次\n",
    "DEVICE = torch.device(\"cuda\" if torch.cuda.is_available() else \"cpu\") # 让torch判断是否使用GPU，建议使用GPU环境，因为会快很多"
   ]
  },
  {
   "cell_type": "markdown",
   "metadata": {},
   "source": [
    "因为Pytorch里面包含了MNIST的数据集，所以我们这里直接使用即可。\n",
    "如果第一次执行会生成data文件夹，并且需要一些时间下载，如果以前下载过就不会再次下载了\n",
    "\n",
    "由于官方已经实现了dataset，所以这里可以直接使用DataLoader来对数据进行读取"
   ]
  },
  {
   "cell_type": "code",
   "execution_count": 3,
   "metadata": {},
   "outputs": [
    {
     "name": "stdout",
     "output_type": "stream",
     "text": [
      "Downloading http://yann.lecun.com/exdb/mnist/train-images-idx3-ubyte.gz\n",
      "Downloading http://yann.lecun.com/exdb/mnist/train-labels-idx1-ubyte.gz\n",
      "Downloading http://yann.lecun.com/exdb/mnist/t10k-images-idx3-ubyte.gz\n",
      "Downloading http://yann.lecun.com/exdb/mnist/t10k-labels-idx1-ubyte.gz\n",
      "Processing...\n",
      "Done!\n"
     ]
    }
   ],
   "source": [
    "train_loader = torch.utils.data.DataLoader(\n",
    "        datasets.MNIST('data', train=True, download=True, \n",
    "                       transform=transforms.Compose([\n",
    "                           transforms.ToTensor(),\n",
    "                           transforms.Normalize((0.1307,), (0.3081,))\n",
    "                       ])),\n",
    "        batch_size=BATCH_SIZE, shuffle=True)"
   ]
  },
  {
   "cell_type": "markdown",
   "metadata": {},
   "source": [
    "测试集"
   ]
  },
  {
   "cell_type": "code",
   "execution_count": 4,
   "metadata": {},
   "outputs": [],
   "source": [
    "test_loader = torch.utils.data.DataLoader(\n",
    "        datasets.MNIST('data', train=False, transform=transforms.Compose([\n",
    "                           transforms.ToTensor(),\n",
    "                           transforms.Normalize((0.1307,), (0.3081,))\n",
    "                       ])),\n",
    "        batch_size=BATCH_SIZE, shuffle=True)"
   ]
  },
  {
   "cell_type": "markdown",
   "metadata": {},
   "source": [
    "下面我们定义一个网络，网络包含两个卷积层，conv1和conv2，然后紧接着两个线性层作为输出，最后输出10个维度，这10个维度我们作为0-9的标识来确定识别出的是那个数字\n",
    "\n",
    "在这里建议大家将每一层的输入和输出都显作为注释标注出来，这样后面阅读代码的会方便很多"
   ]
  },
  {
   "cell_type": "code",
   "execution_count": 5,
   "metadata": {},
   "outputs": [],
   "source": [
    "class ConvNet(nn.Module):\n",
    "    def __init__(self):\n",
    "        super().__init__()\n",
    "        # 1,28x28\n",
    "        self.conv1=nn.Conv2d(1,10,5) # 10, 24x24\n",
    "        self.conv2=nn.Conv2d(10,20,3) # 128, 10x10\n",
    "        self.fc1 = nn.Linear(20*10*10,500)\n",
    "        self.fc2 = nn.Linear(500,10)\n",
    "    def forward(self,x):\n",
    "        in_size = x.size(0)\n",
    "        out = self.conv1(x) #24\n",
    "        out = F.relu(out)\n",
    "        out = F.max_pool2d(out, 2, 2)  #12\n",
    "        out = self.conv2(out) #10\n",
    "        out = F.relu(out)\n",
    "        out = out.view(in_size,-1)\n",
    "        out = self.fc1(out)\n",
    "        out = F.relu(out)\n",
    "        out = self.fc2(out)\n",
    "        out = F.log_softmax(out,dim=1)\n",
    "        return out"
   ]
  },
  {
   "cell_type": "markdown",
   "metadata": {},
   "source": [
    "我们实例化一个网络，实例化后使用.to方法将网络移动到GPU\n",
    "\n",
    "优化器我们也直接选择简单暴力的Adam"
   ]
  },
  {
   "cell_type": "code",
   "execution_count": 6,
   "metadata": {},
   "outputs": [],
   "source": [
    "model = ConvNet().to(DEVICE)\n",
    "optimizer = optim.Adam(model.parameters())"
   ]
  },
  {
   "cell_type": "markdown",
   "metadata": {},
   "source": [
    "下面定义一下训练的函数，我们将训练的所有操作都封装到这个函数中"
   ]
  },
  {
   "cell_type": "code",
   "execution_count": 7,
   "metadata": {},
   "outputs": [],
   "source": [
    "def train(model, device, train_loader, optimizer, epoch):\n",
    "    model.train()\n",
    "    for batch_idx, (data, target) in enumerate(train_loader):\n",
    "        data, target = data.to(device), target.to(device)\n",
    "        optimizer.zero_grad()\n",
    "        output = model(data)\n",
    "        loss = F.nll_loss(output, target)\n",
    "        loss.backward()\n",
    "        optimizer.step()\n",
    "        if(batch_idx+1)%30 == 0: \n",
    "            print('Train Epoch: {} [{}/{} ({:.0f}%)]\\tLoss: {:.6f}'.format(\n",
    "                epoch, batch_idx * len(data), len(train_loader.dataset),\n",
    "                100. * batch_idx / len(train_loader), loss.item()))"
   ]
  },
  {
   "cell_type": "markdown",
   "metadata": {},
   "source": [
    "测试的操作也一样封装成一个函数"
   ]
  },
  {
   "cell_type": "code",
   "execution_count": 8,
   "metadata": {},
   "outputs": [],
   "source": [
    "def test(model, device, test_loader):\n",
    "    model.eval()\n",
    "    test_loss = 0\n",
    "    correct = 0\n",
    "    with torch.no_grad():\n",
    "        for data, target in test_loader:\n",
    "            data, target = data.to(device), target.to(device)\n",
    "            output = model(data)\n",
    "            test_loss += F.nll_loss(output, target, reduction='sum').item() # 将一批的损失相加\n",
    "            pred = output.max(1, keepdim=True)[1] # 找到概率最大的下标\n",
    "            correct += pred.eq(target.view_as(pred)).sum().item()\n",
    "\n",
    "    test_loss /= len(test_loader.dataset)\n",
    "    print('\\nTest set: Average loss: {:.4f}, Accuracy: {}/{} ({:.0f}%)\\n'.format(\n",
    "        test_loss, correct, len(test_loader.dataset),\n",
    "        100. * correct / len(test_loader.dataset)))"
   ]
  },
  {
   "cell_type": "markdown",
   "metadata": {},
   "source": [
    "下面开始训练，封装起来的好处这里就体现出来了，只要谢两行就可以了"
   ]
  },
  {
   "cell_type": "code",
   "execution_count": null,
   "metadata": {},
   "outputs": [
    {
     "name": "stdout",
     "output_type": "stream",
     "text": [
      "Train Epoch: 1 [14848/60000 (25%)]\tLoss: 0.280644\n",
      "Train Epoch: 1 [30208/60000 (50%)]\tLoss: 0.182536\n",
      "Train Epoch: 1 [45568/60000 (75%)]\tLoss: 0.168971\n",
      "\n",
      "Test set: Average loss: 0.0956, Accuracy: 9714/10000 (97%)\n",
      "\n",
      "Train Epoch: 2 [14848/60000 (25%)]\tLoss: 0.074624\n",
      "Train Epoch: 2 [30208/60000 (50%)]\tLoss: 0.112751\n",
      "Train Epoch: 2 [45568/60000 (75%)]\tLoss: 0.070918\n",
      "\n",
      "Test set: Average loss: 0.0613, Accuracy: 9806/10000 (98%)\n",
      "\n",
      "Train Epoch: 3 [14848/60000 (25%)]\tLoss: 0.049284\n",
      "Train Epoch: 3 [30208/60000 (50%)]\tLoss: 0.042958\n",
      "Train Epoch: 3 [45568/60000 (75%)]\tLoss: 0.058852\n",
      "\n",
      "Test set: Average loss: 0.0435, Accuracy: 9853/10000 (99%)\n",
      "\n",
      "Train Epoch: 4 [14848/60000 (25%)]\tLoss: 0.046710\n",
      "Train Epoch: 4 [30208/60000 (50%)]\tLoss: 0.027033\n",
      "Train Epoch: 4 [45568/60000 (75%)]\tLoss: 0.052770\n",
      "\n",
      "Test set: Average loss: 0.0406, Accuracy: 9870/10000 (99%)\n",
      "\n",
      "Train Epoch: 5 [14848/60000 (25%)]\tLoss: 0.049252\n",
      "Train Epoch: 5 [30208/60000 (50%)]\tLoss: 0.025461\n",
      "Train Epoch: 5 [45568/60000 (75%)]\tLoss: 0.028286\n",
      "\n",
      "Test set: Average loss: 0.0410, Accuracy: 9862/10000 (99%)\n",
      "\n",
      "Train Epoch: 6 [14848/60000 (25%)]\tLoss: 0.036297\n",
      "Train Epoch: 6 [30208/60000 (50%)]\tLoss: 0.020770\n",
      "Train Epoch: 6 [45568/60000 (75%)]\tLoss: 0.028248\n",
      "\n",
      "Test set: Average loss: 0.0367, Accuracy: 9876/10000 (99%)\n",
      "\n",
      "Train Epoch: 7 [14848/60000 (25%)]\tLoss: 0.014310\n",
      "Train Epoch: 7 [30208/60000 (50%)]\tLoss: 0.015134\n",
      "Train Epoch: 7 [45568/60000 (75%)]\tLoss: 0.008818\n",
      "\n",
      "Test set: Average loss: 0.0356, Accuracy: 9879/10000 (99%)\n",
      "\n",
      "Train Epoch: 8 [14848/60000 (25%)]\tLoss: 0.009247\n",
      "Train Epoch: 8 [30208/60000 (50%)]\tLoss: 0.015227\n",
      "Train Epoch: 8 [45568/60000 (75%)]\tLoss: 0.009941\n",
      "\n",
      "Test set: Average loss: 0.0305, Accuracy: 9897/10000 (99%)\n",
      "\n",
      "Train Epoch: 9 [14848/60000 (25%)]\tLoss: 0.022077\n",
      "Train Epoch: 9 [30208/60000 (50%)]\tLoss: 0.017098\n",
      "Train Epoch: 9 [45568/60000 (75%)]\tLoss: 0.006667\n",
      "\n",
      "Test set: Average loss: 0.0328, Accuracy: 9892/10000 (99%)\n",
      "\n",
      "Train Epoch: 10 [14848/60000 (25%)]\tLoss: 0.008079\n",
      "Train Epoch: 10 [30208/60000 (50%)]\tLoss: 0.006318\n",
      "Train Epoch: 10 [45568/60000 (75%)]\tLoss: 0.023816\n",
      "\n",
      "Test set: Average loss: 0.0307, Accuracy: 9898/10000 (99%)\n",
      "\n",
      "Train Epoch: 11 [14848/60000 (25%)]\tLoss: 0.005739\n",
      "Train Epoch: 11 [30208/60000 (50%)]\tLoss: 0.043703\n",
      "Train Epoch: 11 [45568/60000 (75%)]\tLoss: 0.018133\n",
      "\n",
      "Test set: Average loss: 0.0400, Accuracy: 9882/10000 (99%)\n",
      "\n",
      "Train Epoch: 12 [14848/60000 (25%)]\tLoss: 0.004410\n",
      "Train Epoch: 12 [30208/60000 (50%)]\tLoss: 0.001808\n",
      "Train Epoch: 12 [45568/60000 (75%)]\tLoss: 0.003029\n",
      "\n",
      "Test set: Average loss: 0.0279, Accuracy: 9906/10000 (99%)\n",
      "\n",
      "Train Epoch: 13 [14848/60000 (25%)]\tLoss: 0.001967\n",
      "Train Epoch: 13 [30208/60000 (50%)]\tLoss: 0.003154\n",
      "Train Epoch: 13 [45568/60000 (75%)]\tLoss: 0.002843\n",
      "\n",
      "Test set: Average loss: 0.0390, Accuracy: 9889/10000 (99%)\n",
      "\n",
      "Train Epoch: 14 [14848/60000 (25%)]\tLoss: 0.006566\n",
      "Train Epoch: 14 [30208/60000 (50%)]\tLoss: 0.005574\n",
      "Train Epoch: 14 [45568/60000 (75%)]\tLoss: 0.003698\n",
      "\n",
      "Test set: Average loss: 0.0356, Accuracy: 9890/10000 (99%)\n",
      "\n",
      "Train Epoch: 15 [14848/60000 (25%)]\tLoss: 0.005058\n",
      "Train Epoch: 15 [30208/60000 (50%)]\tLoss: 0.003757\n",
      "Train Epoch: 15 [45568/60000 (75%)]\tLoss: 0.004164\n",
      "\n",
      "Test set: Average loss: 0.0332, Accuracy: 9904/10000 (99%)\n",
      "\n",
      "Train Epoch: 16 [14848/60000 (25%)]\tLoss: 0.001381\n",
      "Train Epoch: 16 [30208/60000 (50%)]\tLoss: 0.004545\n",
      "Train Epoch: 16 [45568/60000 (75%)]\tLoss: 0.003266\n",
      "\n",
      "Test set: Average loss: 0.0301, Accuracy: 9915/10000 (99%)\n",
      "\n",
      "Train Epoch: 17 [14848/60000 (25%)]\tLoss: 0.008901\n",
      "Train Epoch: 17 [30208/60000 (50%)]\tLoss: 0.000954\n",
      "Train Epoch: 17 [45568/60000 (75%)]\tLoss: 0.002539\n",
      "\n",
      "Test set: Average loss: 0.0384, Accuracy: 9890/10000 (99%)\n",
      "\n",
      "Train Epoch: 18 [14848/60000 (25%)]\tLoss: 0.004816\n",
      "Train Epoch: 18 [30208/60000 (50%)]\tLoss: 0.005301\n",
      "Train Epoch: 18 [45568/60000 (75%)]\tLoss: 0.007622\n",
      "\n",
      "Test set: Average loss: 0.0337, Accuracy: 9917/10000 (99%)\n",
      "\n",
      "Train Epoch: 19 [14848/60000 (25%)]\tLoss: 0.006460\n",
      "Train Epoch: 19 [30208/60000 (50%)]\tLoss: 0.013354\n",
      "Train Epoch: 19 [45568/60000 (75%)]\tLoss: 0.001905\n",
      "\n",
      "Test set: Average loss: 0.0336, Accuracy: 9915/10000 (99%)\n",
      "\n",
      "Train Epoch: 20 [14848/60000 (25%)]\tLoss: 0.001782\n"
     ]
    }
   ],
   "source": [
    "for epoch in range(1, EPOCHS + 1):\n",
    "    train(model, DEVICE, train_loader, optimizer, epoch)\n",
    "    test(model, DEVICE, test_loader)"
   ]
  },
  {
   "cell_type": "markdown",
   "metadata": {},
   "source": [
    "我们看一下结果，准确率99%，没问题"
   ]
  },
  {
   "cell_type": "markdown",
   "metadata": {},
   "source": [
    "如果你的模型连MNIST都搞不定，那么你的模型没有任何的价值\n",
    "\n",
    "如果你的模型搞定了MNIST，那么你的模型也可能没有任何的价值\n",
    "\n",
    "MNIST是一个很简单的数据集，但是因为他的局限性只能作为研究来使用，对于实际应用中带来的价值非常有限，但是通过这个例子，我们可以完全了解一个实际项目的工作流程\n",
    "\n",
    "我们找到数据集，对数据做预处理，定义我们的模型，调整超参数，测试训练，再通过训练结果对超参数进行调整或者对模型进行调整。\n",
    "\n",
    "并且通过这个实战我们已经有了一个很好的模板，以后的项目都可以以这个模板为样例"
   ]
  }
 ],
 "metadata": {
  "kernelspec": {
   "display_name": "Python 3",
   "language": "python",
   "name": "python3"
  },
  "language_info": {
   "codemirror_mode": {
    "name": "ipython",
    "version": 3
   },
   "file_extension": ".py",
   "mimetype": "text/x-python",
   "name": "python",
   "nbconvert_exporter": "python",
   "pygments_lexer": "ipython3",
   "version": "3.7.1"
  }
 },
 "nbformat": 4,
 "nbformat_minor": 2
}
